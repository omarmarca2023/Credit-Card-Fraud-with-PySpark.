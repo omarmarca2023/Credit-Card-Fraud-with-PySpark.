{
  "cells": [
    {
      "cell_type": "markdown",
      "source": [
        "# **Detecção de Fraude em Cartão de Crédito**"
      ],
      "metadata": {
        "id": "Ft7cq_QYjmz3"
      }
    },
    {
      "cell_type": "markdown",
      "source": [
        "- As empresas de cartão de crédito utilizam o aprendizado de máquina no momento da transação para determinar se devem aprovar ou recusar cobranças individuais."
      ],
      "metadata": {
        "id": "Et-zCY_rlwnO"
      }
    },
    {
      "cell_type": "markdown",
      "source": [
        "## **1. Problema de Negócio**"
      ],
      "metadata": {
        "id": "hlSNxrzAoS_s"
      }
    },
    {
      "cell_type": "markdown",
      "source": [
        "- Neste projeto, nosso objetivo é criar um modelo  para detectar se um transação é um pagamento normal ou uma fraude, porém,  o foco principal é garantir que transações genuínas não sejam erroneamente identificadas como fraudulentas, evitando assim possíveis inconvenientes ou desconfortos para os clientes.\n",
        "\n",
        "- O conjunto de dados utilizado é obtido do [Kaggle](https://www.kaggle.com/datasets/mlg-ulb/creditcardfraud). Este conjunto de dados contém transações reais feitas por Titulares de cartões de crédito europeus."
      ],
      "metadata": {
        "id": "nWkN_Ed6oZ8l"
      }
    },
    {
      "cell_type": "markdown",
      "metadata": {
        "id": "OnY8s2HcNTQ9"
      },
      "source": [
        "## **2. Preparando o ambiente para utilizar o PySpark**"
      ]
    },
    {
      "cell_type": "markdown",
      "metadata": {
        "id": "5mbDWH-lNow-"
      },
      "source": [
        "### **Instalando o Java**"
      ]
    },
    {
      "cell_type": "markdown",
      "source": [
        "- O Apache Spark depende de outros sistemas, portanto, antes do Spark é preciso instalar as dependências. Primeiro, deve-se instalar o java"
      ],
      "metadata": {
        "id": "ntjx6DOIhYbI"
      }
    },
    {
      "cell_type": "code",
      "execution_count": 1,
      "metadata": {
        "id": "4GCRxFI2M7l5"
      },
      "outputs": [],
      "source": [
        "!apt-get install openjdk-8-jdk-headless -qq > /dev/null"
      ]
    },
    {
      "cell_type": "markdown",
      "metadata": {
        "id": "CV_uid7JN8bv"
      },
      "source": [
        "### **Instalando o Apache Spark**"
      ]
    },
    {
      "cell_type": "markdown",
      "source": [
        "- Em seguida, é preciso fazer o download do Spark, e como este roda sobre o Hadoop Distributed File System (HDFS), também é preciso fazer o download do Hadoop. Após os downloads, basta descompactar esses arquivos que o Spark já estará disponível no seu notebook Colab."
      ],
      "metadata": {
        "id": "_UQuPPYWho9M"
      }
    },
    {
      "cell_type": "code",
      "execution_count": 2,
      "metadata": {
        "id": "9IRi_d0GNxQJ"
      },
      "outputs": [],
      "source": [
        "# Fazendo download\n",
        "!wget -q https://archive.apache.org/dist/spark/spark-3.1.2/spark-3.1.2-bin-hadoop2.7.tgz\n",
        "\n",
        "# Descompactando os arquivos\n",
        "!tar xf spark-3.1.2-bin-hadoop2.7.tgz"
      ]
    },
    {
      "cell_type": "markdown",
      "metadata": {
        "id": "5yaj6iqTOziC"
      },
      "source": [
        "### **Configurando o ambiente**"
      ]
    },
    {
      "cell_type": "markdown",
      "source": [
        "- Precisamos dizer para o sistema onde encontrar o Java e o Spark, previamente instalados."
      ],
      "metadata": {
        "id": "m5tw3lqNhxmh"
      }
    },
    {
      "cell_type": "code",
      "execution_count": 3,
      "metadata": {
        "id": "-M7__OXUOpqN"
      },
      "outputs": [],
      "source": [
        "# Importando a biblioteca os\n",
        "import os\n",
        "\n",
        "# Definindo a variável de ambiente do Java\n",
        "os.environ[\"JAVA_HOME\"] = \"/usr/lib/jvm/java-8-openjdk-amd64\"\n",
        "\n",
        "# Definindo a variável de ambiente do Spark\n",
        "os.environ[\"SPARK_HOME\"] = \"/content/spark-3.1.2-bin-hadoop2.7\"\n"
      ]
    },
    {
      "cell_type": "markdown",
      "source": [
        "- A seguir, vamos precisar da biblioteca findspark que vai nos permitir importar pacotes necessários para o funcionamento do pyspark."
      ],
      "metadata": {
        "id": "iqC0_MjJh406"
      }
    },
    {
      "cell_type": "code",
      "execution_count": 4,
      "metadata": {
        "id": "F2YgDHufO_H7"
      },
      "outputs": [],
      "source": [
        "# instalando a findspark\n",
        "!pip install -q findspark"
      ]
    },
    {
      "cell_type": "code",
      "execution_count": 5,
      "metadata": {
        "id": "Qxrd2jcMPDqX"
      },
      "outputs": [],
      "source": [
        "#importando a findspark\n",
        "import findspark\n",
        "\n",
        "# iniciando o findspark\n",
        "findspark.init()"
      ]
    },
    {
      "cell_type": "markdown",
      "metadata": {
        "id": "OztvqPS4PJW2"
      },
      "source": [
        "### **Iniciando o PySpark**\n"
      ]
    },
    {
      "cell_type": "code",
      "execution_count": 6,
      "metadata": {
        "colab": {
          "base_uri": "https://localhost:8080/",
          "height": 222
        },
        "id": "LeMtt_wPPHqI",
        "outputId": "775054c1-b474-4e36-d87a-70cd642b7d85"
      },
      "outputs": [
        {
          "output_type": "execute_result",
          "data": {
            "text/plain": [
              "<pyspark.sql.session.SparkSession at 0x7834081f42e0>"
            ],
            "text/html": [
              "\n",
              "            <div>\n",
              "                <p><b>SparkSession - in-memory</b></p>\n",
              "                \n",
              "        <div>\n",
              "            <p><b>SparkContext</b></p>\n",
              "\n",
              "            <p><a href=\"http://1b53d823a2a7:4040\">Spark UI</a></p>\n",
              "\n",
              "            <dl>\n",
              "              <dt>Version</dt>\n",
              "                <dd><code>v3.1.2</code></dd>\n",
              "              <dt>Master</dt>\n",
              "                <dd><code>local[*]</code></dd>\n",
              "              <dt>AppName</dt>\n",
              "                <dd><code>pyspark-shell</code></dd>\n",
              "            </dl>\n",
              "        </div>\n",
              "        \n",
              "            </div>\n",
              "        "
            ]
          },
          "metadata": {},
          "execution_count": 6
        }
      ],
      "source": [
        "# importando o pacote necessário para iniciar uma seção Spark\n",
        "from pyspark.sql import SparkSession\n",
        "\n",
        "# iniciando o spark context\n",
        "sc = SparkSession.builder.master('local[*]').getOrCreate()\n",
        "\n",
        "# Verificando se a sessão foi criada\n",
        "sc"
      ]
    },
    {
      "cell_type": "markdown",
      "metadata": {
        "id": "02ToKteDPhnJ"
      },
      "source": [
        "## **3. Ingestão dos dados para o Apache Spark**"
      ]
    },
    {
      "cell_type": "markdown",
      "metadata": {
        "id": "JU5AMsXCPl0I"
      },
      "source": [
        "### **3.1 Habilitar o uso da API Kaggle no Google Colab**"
      ]
    },
    {
      "cell_type": "code",
      "execution_count": 7,
      "metadata": {
        "id": "ATE4obOVPVpE"
      },
      "outputs": [],
      "source": [
        "# Instalando a biblioteca Kaggle\n",
        "!pip install -q kaggle"
      ]
    },
    {
      "cell_type": "markdown",
      "source": [
        "- Faça o download do arquivo de configuração da API Kaggle chamado \"kaggle.json\" em sua conta Kaggle."
      ],
      "metadata": {
        "id": "VK8jb6_hiL98"
      }
    },
    {
      "cell_type": "code",
      "execution_count": 8,
      "metadata": {
        "colab": {
          "base_uri": "https://localhost:8080/",
          "height": 91
        },
        "id": "gVA5avrnPv8J",
        "outputId": "3bf70370-ed02-4047-d553-3ece24ab39b5"
      },
      "outputs": [
        {
          "output_type": "display_data",
          "data": {
            "text/plain": [
              "<IPython.core.display.HTML object>"
            ],
            "text/html": [
              "\n",
              "     <input type=\"file\" id=\"files-ef1b8257-3df7-4677-b218-a6642ef4248b\" name=\"files[]\" multiple disabled\n",
              "        style=\"border:none\" />\n",
              "     <output id=\"result-ef1b8257-3df7-4677-b218-a6642ef4248b\">\n",
              "      Upload widget is only available when the cell has been executed in the\n",
              "      current browser session. Please rerun this cell to enable.\n",
              "      </output>\n",
              "      <script>// Copyright 2017 Google LLC\n",
              "//\n",
              "// Licensed under the Apache License, Version 2.0 (the \"License\");\n",
              "// you may not use this file except in compliance with the License.\n",
              "// You may obtain a copy of the License at\n",
              "//\n",
              "//      http://www.apache.org/licenses/LICENSE-2.0\n",
              "//\n",
              "// Unless required by applicable law or agreed to in writing, software\n",
              "// distributed under the License is distributed on an \"AS IS\" BASIS,\n",
              "// WITHOUT WARRANTIES OR CONDITIONS OF ANY KIND, either express or implied.\n",
              "// See the License for the specific language governing permissions and\n",
              "// limitations under the License.\n",
              "\n",
              "/**\n",
              " * @fileoverview Helpers for google.colab Python module.\n",
              " */\n",
              "(function(scope) {\n",
              "function span(text, styleAttributes = {}) {\n",
              "  const element = document.createElement('span');\n",
              "  element.textContent = text;\n",
              "  for (const key of Object.keys(styleAttributes)) {\n",
              "    element.style[key] = styleAttributes[key];\n",
              "  }\n",
              "  return element;\n",
              "}\n",
              "\n",
              "// Max number of bytes which will be uploaded at a time.\n",
              "const MAX_PAYLOAD_SIZE = 100 * 1024;\n",
              "\n",
              "function _uploadFiles(inputId, outputId) {\n",
              "  const steps = uploadFilesStep(inputId, outputId);\n",
              "  const outputElement = document.getElementById(outputId);\n",
              "  // Cache steps on the outputElement to make it available for the next call\n",
              "  // to uploadFilesContinue from Python.\n",
              "  outputElement.steps = steps;\n",
              "\n",
              "  return _uploadFilesContinue(outputId);\n",
              "}\n",
              "\n",
              "// This is roughly an async generator (not supported in the browser yet),\n",
              "// where there are multiple asynchronous steps and the Python side is going\n",
              "// to poll for completion of each step.\n",
              "// This uses a Promise to block the python side on completion of each step,\n",
              "// then passes the result of the previous step as the input to the next step.\n",
              "function _uploadFilesContinue(outputId) {\n",
              "  const outputElement = document.getElementById(outputId);\n",
              "  const steps = outputElement.steps;\n",
              "\n",
              "  const next = steps.next(outputElement.lastPromiseValue);\n",
              "  return Promise.resolve(next.value.promise).then((value) => {\n",
              "    // Cache the last promise value to make it available to the next\n",
              "    // step of the generator.\n",
              "    outputElement.lastPromiseValue = value;\n",
              "    return next.value.response;\n",
              "  });\n",
              "}\n",
              "\n",
              "/**\n",
              " * Generator function which is called between each async step of the upload\n",
              " * process.\n",
              " * @param {string} inputId Element ID of the input file picker element.\n",
              " * @param {string} outputId Element ID of the output display.\n",
              " * @return {!Iterable<!Object>} Iterable of next steps.\n",
              " */\n",
              "function* uploadFilesStep(inputId, outputId) {\n",
              "  const inputElement = document.getElementById(inputId);\n",
              "  inputElement.disabled = false;\n",
              "\n",
              "  const outputElement = document.getElementById(outputId);\n",
              "  outputElement.innerHTML = '';\n",
              "\n",
              "  const pickedPromise = new Promise((resolve) => {\n",
              "    inputElement.addEventListener('change', (e) => {\n",
              "      resolve(e.target.files);\n",
              "    });\n",
              "  });\n",
              "\n",
              "  const cancel = document.createElement('button');\n",
              "  inputElement.parentElement.appendChild(cancel);\n",
              "  cancel.textContent = 'Cancel upload';\n",
              "  const cancelPromise = new Promise((resolve) => {\n",
              "    cancel.onclick = () => {\n",
              "      resolve(null);\n",
              "    };\n",
              "  });\n",
              "\n",
              "  // Wait for the user to pick the files.\n",
              "  const files = yield {\n",
              "    promise: Promise.race([pickedPromise, cancelPromise]),\n",
              "    response: {\n",
              "      action: 'starting',\n",
              "    }\n",
              "  };\n",
              "\n",
              "  cancel.remove();\n",
              "\n",
              "  // Disable the input element since further picks are not allowed.\n",
              "  inputElement.disabled = true;\n",
              "\n",
              "  if (!files) {\n",
              "    return {\n",
              "      response: {\n",
              "        action: 'complete',\n",
              "      }\n",
              "    };\n",
              "  }\n",
              "\n",
              "  for (const file of files) {\n",
              "    const li = document.createElement('li');\n",
              "    li.append(span(file.name, {fontWeight: 'bold'}));\n",
              "    li.append(span(\n",
              "        `(${file.type || 'n/a'}) - ${file.size} bytes, ` +\n",
              "        `last modified: ${\n",
              "            file.lastModifiedDate ? file.lastModifiedDate.toLocaleDateString() :\n",
              "                                    'n/a'} - `));\n",
              "    const percent = span('0% done');\n",
              "    li.appendChild(percent);\n",
              "\n",
              "    outputElement.appendChild(li);\n",
              "\n",
              "    const fileDataPromise = new Promise((resolve) => {\n",
              "      const reader = new FileReader();\n",
              "      reader.onload = (e) => {\n",
              "        resolve(e.target.result);\n",
              "      };\n",
              "      reader.readAsArrayBuffer(file);\n",
              "    });\n",
              "    // Wait for the data to be ready.\n",
              "    let fileData = yield {\n",
              "      promise: fileDataPromise,\n",
              "      response: {\n",
              "        action: 'continue',\n",
              "      }\n",
              "    };\n",
              "\n",
              "    // Use a chunked sending to avoid message size limits. See b/62115660.\n",
              "    let position = 0;\n",
              "    do {\n",
              "      const length = Math.min(fileData.byteLength - position, MAX_PAYLOAD_SIZE);\n",
              "      const chunk = new Uint8Array(fileData, position, length);\n",
              "      position += length;\n",
              "\n",
              "      const base64 = btoa(String.fromCharCode.apply(null, chunk));\n",
              "      yield {\n",
              "        response: {\n",
              "          action: 'append',\n",
              "          file: file.name,\n",
              "          data: base64,\n",
              "        },\n",
              "      };\n",
              "\n",
              "      let percentDone = fileData.byteLength === 0 ?\n",
              "          100 :\n",
              "          Math.round((position / fileData.byteLength) * 100);\n",
              "      percent.textContent = `${percentDone}% done`;\n",
              "\n",
              "    } while (position < fileData.byteLength);\n",
              "  }\n",
              "\n",
              "  // All done.\n",
              "  yield {\n",
              "    response: {\n",
              "      action: 'complete',\n",
              "    }\n",
              "  };\n",
              "}\n",
              "\n",
              "scope.google = scope.google || {};\n",
              "scope.google.colab = scope.google.colab || {};\n",
              "scope.google.colab._files = {\n",
              "  _uploadFiles,\n",
              "  _uploadFilesContinue,\n",
              "};\n",
              "})(self);\n",
              "</script> "
            ]
          },
          "metadata": {}
        },
        {
          "output_type": "stream",
          "name": "stdout",
          "text": [
            "Saving kaggle.json to kaggle.json\n"
          ]
        },
        {
          "output_type": "execute_result",
          "data": {
            "text/plain": [
              "{'kaggle.json': b'{\"username\":\"omarmarca\",\"key\":\"9621522919e711e3ed6531006be9c535\"}'}"
            ]
          },
          "metadata": {},
          "execution_count": 8
        }
      ],
      "source": [
        "# Fazendo o upload do Token da API Kaggle\n",
        "from google.colab import files\n",
        "files.upload()"
      ]
    },
    {
      "cell_type": "code",
      "execution_count": 9,
      "metadata": {
        "id": "QzIbYA5gP1Zw"
      },
      "outputs": [],
      "source": [
        "# Movendo o arquivo kaggle.json para o diretório adequado\n",
        "!mkdir -p ~/.kaggle\n",
        "!cp kaggle.json ~/.kaggle/\n",
        "!chmod 600 ~/.kaggle/kaggle.json"
      ]
    },
    {
      "cell_type": "code",
      "execution_count": 10,
      "metadata": {
        "colab": {
          "base_uri": "https://localhost:8080/"
        },
        "id": "qm0FcFfMP_Le",
        "outputId": "62426423-1e4e-422a-aad0-735d1695adc1"
      },
      "outputs": [
        {
          "output_type": "stream",
          "name": "stdout",
          "text": [
            "Downloading creditcardfraud.zip to /content\n",
            " 96% 63.0M/66.0M [00:02<00:00, 40.9MB/s]\n",
            "100% 66.0M/66.0M [00:02<00:00, 30.3MB/s]\n"
          ]
        }
      ],
      "source": [
        "# Fazendo o download do  Conjunto de Dados\n",
        "!kaggle datasets download -d mlg-ulb/creditcardfraud"
      ]
    },
    {
      "cell_type": "code",
      "execution_count": 11,
      "metadata": {
        "colab": {
          "base_uri": "https://localhost:8080/"
        },
        "id": "VNtAzR__R6yT",
        "outputId": "a61f33d5-ca2d-4827-9dfa-575de11f1a88"
      },
      "outputs": [
        {
          "output_type": "stream",
          "name": "stdout",
          "text": [
            "Archive:  creditcardfraud.zip\n",
            "  inflating: creditcard.csv          \n"
          ]
        }
      ],
      "source": [
        "# Descompactando o Conjunto de Dados\n",
        "!unzip creditcardfraud.zip"
      ]
    },
    {
      "cell_type": "markdown",
      "metadata": {
        "id": "D5TrFXGkS81M"
      },
      "source": [
        "## **3.2 Importar bibliotecas e conjunto de dados**"
      ]
    },
    {
      "cell_type": "code",
      "execution_count": 12,
      "metadata": {
        "colab": {
          "base_uri": "https://localhost:8080/"
        },
        "id": "ikDrMRRNSY25",
        "outputId": "3f1d2731-2f60-4a46-ca02-1070c883dc12"
      },
      "outputs": [
        {
          "output_type": "stream",
          "name": "stdout",
          "text": [
            "+----+------------------+-------------------+------------------+------------------+-------------------+-------------------+--------------------+------------------+------------------+-------------------+------------------+------------------+------------------+------------------+------------------+-------------------+-------------------+-------------------+-------------------+-------------------+--------------------+-------------------+-------------------+------------------+-------------------+-------------------+--------------------+-------------------+------+-----+\n",
            "|Time|                V1|                 V2|                V3|                V4|                 V5|                 V6|                  V7|                V8|                V9|                V10|               V11|               V12|               V13|               V14|               V15|                V16|                V17|                V18|                V19|                V20|                 V21|                V22|                V23|               V24|                V25|                V26|                 V27|                V28|Amount|Class|\n",
            "+----+------------------+-------------------+------------------+------------------+-------------------+-------------------+--------------------+------------------+------------------+-------------------+------------------+------------------+------------------+------------------+------------------+-------------------+-------------------+-------------------+-------------------+-------------------+--------------------+-------------------+-------------------+------------------+-------------------+-------------------+--------------------+-------------------+------+-----+\n",
            "| 0.0|  -1.3598071336738|-0.0727811733098497|  2.53634673796914|  1.37815522427443| -0.338320769942518|  0.462387777762292|   0.239598554061257|0.0986979012610507| 0.363786969611213| 0.0907941719789316|-0.551599533260813|-0.617800855762348|-0.991389847235408|-0.311169353699879|  1.46817697209427| -0.470400525259478|  0.207971241929242| 0.0257905801985591|  0.403992960255733|  0.251412098239705|  -0.018306777944153|  0.277837575558899| -0.110473910188767|0.0669280749146731|  0.128539358273528| -0.189114843888824|   0.133558376740387|-0.0210530534538215|149.62|    0|\n",
            "| 0.0|  1.19185711131486|   0.26615071205963|  0.16648011335321| 0.448154078460911| 0.0600176492822243|-0.0823608088155687| -0.0788029833323113|0.0851016549148104|-0.255425128109186| -0.166974414004614|  1.61272666105479|  1.06523531137287|  0.48909501589608|-0.143772296441519| 0.635558093258208|  0.463917041022171| -0.114804663102346| -0.183361270123994| -0.145783041325259|-0.0690831352230203|  -0.225775248033138| -0.638671952771851|  0.101288021253234|-0.339846475529127|  0.167170404418143|  0.125894532368176|-0.00898309914322813| 0.0147241691924927|  2.69|    0|\n",
            "| 1.0| -1.35835406159823|  -1.34016307473609|  1.77320934263119| 0.379779593034328| -0.503198133318193|   1.80049938079263|   0.791460956450422| 0.247675786588991| -1.51465432260583|  0.207642865216696| 0.624501459424895| 0.066083685268831| 0.717292731410831|-0.165945922763554|  2.34586494901581|  -2.89008319444231|   1.10996937869599| -0.121359313195888|  -2.26185709530414|  0.524979725224404|   0.247998153469754|  0.771679401917229|  0.909412262347719|-0.689280956490685| -0.327641833735251| -0.139096571514147| -0.0553527940384261|-0.0597518405929204|378.66|    0|\n",
            "| 1.0|-0.966271711572087| -0.185226008082898|  1.79299333957872|-0.863291275036453|-0.0103088796030823|   1.24720316752486|    0.23760893977178| 0.377435874652262| -1.38702406270197|-0.0549519224713749|-0.226487263835401| 0.178228225877303| 0.507756869957169| -0.28792374549456|-0.631418117709045|   -1.0596472454325| -0.684092786345479|   1.96577500349538|   -1.2326219700892| -0.208037781160366|  -0.108300452035545|0.00527359678253453| -0.190320518742841| -1.17557533186321|  0.647376034602038| -0.221928844458407|  0.0627228487293033| 0.0614576285006353| 123.5|    0|\n",
            "| 2.0| -1.15823309349523|  0.877736754848451|    1.548717846511| 0.403033933955121| -0.407193377311653| 0.0959214624684256|   0.592940745385545|-0.270532677192282| 0.817739308235294|  0.753074431976354|-0.822842877946363|  0.53819555014995|   1.3458515932154| -1.11966983471731| 0.175121130008994| -0.451449182813529| -0.237033239362776|-0.0381947870352842|  0.803486924960175|  0.408542360392758|-0.00943069713232919|   0.79827849458971| -0.137458079619063| 0.141266983824769| -0.206009587619756|  0.502292224181569|   0.219422229513348|  0.215153147499206| 69.99|    0|\n",
            "| 2.0|-0.425965884412454|  0.960523044882985|  1.14110934232219|-0.168252079760302|   0.42098688077219|-0.0297275516639742|   0.476200948720027| 0.260314333074874| -0.56867137571251| -0.371407196834471|  1.34126198001957| 0.359893837038039|-0.358090652573631|-0.137133700217612| 0.517616806555742|  0.401725895589603|-0.0581328233640131| 0.0686531494425432|-0.0331937877876282| 0.0849676720682049|  -0.208253514656728| -0.559824796253248|-0.0263976679795373|-0.371426583174346| -0.232793816737034|  0.105914779097957|   0.253844224739337| 0.0810802569229443|  3.67|    0|\n",
            "| 4.0|  1.22965763450793|  0.141003507049326|0.0453707735899449|  1.20261273673594|  0.191880988597645|  0.272708122899098|-0.00515900288250983|0.0812129398830894| 0.464959994783886|-0.0992543211289237| -1.41690724314928|-0.153825826253651| -0.75106271556262|  0.16737196252175|0.0501435942254188| -0.443586797916727|0.00282051247234708|  -0.61198733994012|-0.0455750446637976|  -0.21963255278686|  -0.167716265815783| -0.270709726172363| -0.154103786809305|-0.780055415004671|   0.75013693580659| -0.257236845917139|  0.0345074297438413|0.00516776890624916|  4.99|    0|\n",
            "| 7.0|-0.644269442348146|   1.41796354547385|   1.0743803763556|-0.492199018495015|  0.948934094764157|  0.428118462833089|    1.12063135838353| -3.80786423873589| 0.615374730667027|   1.24937617815176|-0.619467796121913| 0.291474353088705|  1.75796421396042| -1.32386521970526| 0.686132504394383|-0.0761269994382006|   -1.2221273453247| -0.358221569869078|  0.324504731321494| -0.156741852488285|    1.94346533978412|  -1.01545470979971|  0.057503529867291|-0.649709005559993| -0.415266566234811|-0.0516342969262494|   -1.20692108094258|  -1.08533918832377|  40.8|    0|\n",
            "| 7.0| -0.89428608220282|  0.286157196276544|-0.113192212729871|-0.271526130088604|    2.6695986595986|   3.72181806112751|   0.370145127676916| 0.851084443200905|-0.392047586798604| -0.410430432848439|-0.705116586646536|-0.110452261733098|-0.286253632470583|0.0743553603016731|-0.328783050303565| -0.210077268148783| -0.499767968800267|  0.118764861004217|   0.57032816746536| 0.0527356691149697| -0.0734251001059225| -0.268091632235551| -0.204232669947878|   1.0115918018785|  0.373204680146282| -0.384157307702294|  0.0117473564581996|   0.14240432992147|  93.2|    0|\n",
            "| 9.0| -0.33826175242575|   1.11959337641566|  1.04436655157316|-0.222187276738296|   0.49936080649727|  -0.24676110061991|   0.651583206489972|0.0695385865186387|-0.736727316364109| -0.366845639206541|  1.01761446783262| 0.836389570307029|  1.00684351373408|-0.443522816876142| 0.150219101422635|  0.739452777052119| -0.540979921943059|   0.47667726004282|  0.451772964394125|  0.203711454727929|  -0.246913936910008| -0.633752642406113|  -0.12079408408185|-0.385049925313426|-0.0697330460416923| 0.0941988339514961|   0.246219304619926| 0.0830756493473326|  3.68|    0|\n",
            "+----+------------------+-------------------+------------------+------------------+-------------------+-------------------+--------------------+------------------+------------------+-------------------+------------------+------------------+------------------+------------------+------------------+-------------------+-------------------+-------------------+-------------------+-------------------+--------------------+-------------------+-------------------+------------------+-------------------+-------------------+--------------------+-------------------+------+-----+\n",
            "only showing top 10 rows\n",
            "\n"
          ]
        }
      ],
      "source": [
        "# importando as bibliotecas necessárias\n",
        "from pyspark import *\n",
        "from pyspark.sql import *\n",
        "\n",
        "# carregando um conjunto de dados\n",
        "credit = (sc.read\n",
        "      .format('csv')\n",
        "      .option('inferSchema',True)\n",
        "      .option('delimiter',',')\n",
        "      .option('header',True)\n",
        "      .load('/content/creditcard.csv')\n",
        ")\n",
        "\n",
        "# Espiando o dataset\n",
        "credit.show(10)"
      ]
    },
    {
      "cell_type": "code",
      "execution_count": 13,
      "metadata": {
        "colab": {
          "base_uri": "https://localhost:8080/"
        },
        "id": "CmameWHuTmOI",
        "outputId": "b62a8b0b-3bbf-4c30-d160-0e9524fef0df"
      },
      "outputs": [
        {
          "output_type": "execute_result",
          "data": {
            "text/plain": [
              "284807"
            ]
          },
          "metadata": {},
          "execution_count": 13
        }
      ],
      "source": [
        "# Contando o número de linhas do dataset\n",
        "credit.count()"
      ]
    },
    {
      "cell_type": "markdown",
      "source": [
        "### Metadados:\n",
        "\n",
        ">  - V1 até V28: as colunas possuem  informações não informativas  e contêm valores igualmente opacos.\n",
        ">  - Time:contém os segundos decorridos entre cada transação e a primeira transação.\n",
        ">  - Amount: é o valor da transação.\n",
        ">  - Class: é a variável resposta e assume valor 1 em caso de fraude e 0\n",
        "em caso contrário."
      ],
      "metadata": {
        "id": "JYewhj0fV1iO"
      }
    },
    {
      "cell_type": "markdown",
      "source": [
        "## **4. Análises preliminares**"
      ],
      "metadata": {
        "id": "anjtzYUUbZk8"
      }
    },
    {
      "cell_type": "code",
      "execution_count": 14,
      "metadata": {
        "colab": {
          "base_uri": "https://localhost:8080/"
        },
        "id": "ifW-y1BpUl1V",
        "outputId": "861fee29-b0e6-40eb-fe09-08d6fc5cf9a8"
      },
      "outputs": [
        {
          "output_type": "stream",
          "name": "stdout",
          "text": [
            "root\n",
            " |-- Time: double (nullable = true)\n",
            " |-- V1: double (nullable = true)\n",
            " |-- V2: double (nullable = true)\n",
            " |-- V3: double (nullable = true)\n",
            " |-- V4: double (nullable = true)\n",
            " |-- V5: double (nullable = true)\n",
            " |-- V6: double (nullable = true)\n",
            " |-- V7: double (nullable = true)\n",
            " |-- V8: double (nullable = true)\n",
            " |-- V9: double (nullable = true)\n",
            " |-- V10: double (nullable = true)\n",
            " |-- V11: double (nullable = true)\n",
            " |-- V12: double (nullable = true)\n",
            " |-- V13: double (nullable = true)\n",
            " |-- V14: double (nullable = true)\n",
            " |-- V15: double (nullable = true)\n",
            " |-- V16: double (nullable = true)\n",
            " |-- V17: double (nullable = true)\n",
            " |-- V18: double (nullable = true)\n",
            " |-- V19: double (nullable = true)\n",
            " |-- V20: double (nullable = true)\n",
            " |-- V21: double (nullable = true)\n",
            " |-- V22: double (nullable = true)\n",
            " |-- V23: double (nullable = true)\n",
            " |-- V24: double (nullable = true)\n",
            " |-- V25: double (nullable = true)\n",
            " |-- V26: double (nullable = true)\n",
            " |-- V27: double (nullable = true)\n",
            " |-- V28: double (nullable = true)\n",
            " |-- Amount: double (nullable = true)\n",
            " |-- Class: integer (nullable = true)\n",
            "\n"
          ]
        }
      ],
      "source": [
        "# Verificando o Schema\n",
        "credit.printSchema()"
      ]
    },
    {
      "cell_type": "code",
      "source": [
        "# Quantas transações são fraudulentas e quantas não são?\n",
        "credit.groupBy(\"Class\").count().show()"
      ],
      "metadata": {
        "colab": {
          "base_uri": "https://localhost:8080/"
        },
        "id": "1kgM9bKvcWdx",
        "outputId": "7b56554b-ad12-45be-e27a-f9d907182db7"
      },
      "execution_count": 15,
      "outputs": [
        {
          "output_type": "stream",
          "name": "stdout",
          "text": [
            "+-----+------+\n",
            "|Class| count|\n",
            "+-----+------+\n",
            "|    1|   492|\n",
            "|    0|284315|\n",
            "+-----+------+\n",
            "\n"
          ]
        }
      ]
    },
    {
      "cell_type": "markdown",
      "source": [
        "- Das 284807 transações registradas no conjunto de dados, apenas 492 são identificadas como fraudulentas. Este desequilíbrio é significativo.\n",
        "\n",
        "- O conjunto de dados possui 30 variáveis  features, e a variável Class é a variável target."
      ],
      "metadata": {
        "id": "ZXvvYzK4dDne"
      }
    },
    {
      "cell_type": "markdown",
      "source": [
        "## **5. Pré-processamento**"
      ],
      "metadata": {
        "id": "2QXvuBLZh-pJ"
      }
    },
    {
      "cell_type": "markdown",
      "source": [
        "### **Identificação de Dados Duplicados**"
      ],
      "metadata": {
        "id": "PkPdQ4b0jLNE"
      }
    },
    {
      "cell_type": "code",
      "execution_count": 16,
      "metadata": {
        "colab": {
          "base_uri": "https://localhost:8080/"
        },
        "id": "UiTZeEGvd2V2",
        "outputId": "83c52a3b-9f82-4d95-b619-7eea9872a547"
      },
      "outputs": [
        {
          "output_type": "stream",
          "name": "stdout",
          "text": [
            "+------+------------------+-------------------+------------------+-------------------+------------------+------------------+-------------------+------------------+-------------------+------------------+------------------+-------------------+-------------------+-----------------+------------------+-------------------+------------------+-------------------+------------------+------------------+------------------+-------------------+-------------------+-------------------+-------------------+------------------+-------------------+-------------------+------+-----+\n",
            "|  Time|                V1|                 V2|                V3|                 V4|                V5|                V6|                 V7|                V8|                 V9|               V10|               V11|                V12|                V13|              V14|               V15|                V16|               V17|                V18|               V19|               V20|               V21|                V22|                V23|                V24|                V25|               V26|                V27|                V28|Amount|Class|\n",
            "+------+------------------+-------------------+------------------+-------------------+------------------+------------------+-------------------+------------------+-------------------+------------------+------------------+-------------------+-------------------+-----------------+------------------+-------------------+------------------+-------------------+------------------+------------------+------------------+-------------------+-------------------+-------------------+-------------------+------------------+-------------------+-------------------+------+-----+\n",
            "|  26.0|-0.529912284186556|  0.873891581460326|  1.34724732930113|  0.145456676582257| 0.414208858362661|  0.10022309405219|  0.711206082959649|   0.1760659570625| -0.286716934699997|-0.484687683196852| 0.872489590125871|  0.851635859904339| -0.571745302934562|0.100974273045751| -1.51977183258512| -0.284375978261788|-0.310523584869201| -0.404247868800905|-0.823373523914155|-0.290347610865436|0.0469490671140629|  0.208104855076299| -0.185548346773547|0.00103065983293288| 0.0988157011025622|-0.552903603040518|-0.0732880835681738| 0.0233070451077205|  6.14|    0|\n",
            "| 158.0|-0.600816388115364|  0.922454525911535|-0.135951820418704|  -1.25991483910974|  2.43982440634166|  3.33020532398973| 0.0871070880575762| 0.949659242063477| -0.327931944022326|0.0617085198149349|-0.157387072529051| -0.233220336669169|-0.0533324475993436|0.221138816180166|  1.05707087248086|  0.505629784812465|-0.899687487478946| 0.0818471727849734| 0.357532361084866| 0.348027853864187|-0.311488589011741|   -0.9272331843096|-0.0452679356500729|  0.979587246671944| 0.0164232459149332| 0.091043324055392|  0.371280248055762|  0.180187431297484|  1.79|    0|\n",
            "| 190.0|  -1.5057791635308| -0.215325117259078|  1.99129427646285|  -1.63149338451985|-0.635965146821198| 0.228413858079752|-0.0342656972363698|0.0426958270503592| -0.235439929340839| 0.164740343425352| -1.51828765971003| -0.317422419544255|   1.12053465313355|-1.52478487374754| -1.21854635680996|   1.06301355860071|0.0443910911487924|  -1.34080631609944| 0.715632259412232| 0.232752121754006|-0.101938019104751|  0.148145577476984| -0.450114636372949| -0.396558396394281|  0.554223963316214|-0.340492980681964| -0.335617814421999| -0.413379326245853| 82.29|    0|\n",
            "| 265.0|-0.491003017302294|  0.906952627077483|  1.64542281975857|-0.0835311021938869|-0.195560099221421|-0.710165000567951|  0.559118538140669|  0.11634025149828| -0.538190203722305|-0.122023316581271|  1.33297073086808|   0.24154718539358| -0.960824737330713|0.526002678860792|  0.22936824295849|  0.377199880619456|-0.520008382536953|  0.186335971636626| 0.230867162187187|0.0627566740593696| -0.16806729699576| -0.517387140513931| 0.0186502119982566|   0.49165164795184| -0.277795388237676|0.0438408610056926|  0.253371621535344|  0.111749327120591|  9.03|    0|\n",
            "| 459.0|-0.528217504778877|  0.981231846386665|   1.6529880537617| -0.150715086881965| 0.137047986925298|-0.203980367637953|  0.583369653674636|  0.16524639020934| -0.781696163028633|-0.211147388234523|  1.82477182443679|   1.17157436160694|  0.607026344205782|0.237985709192966| 0.306871732892064|0.00996234124647729|-0.332372932563785| -0.458194108838771|-0.137627144521662| 0.127768328729222|-0.123569168149109| -0.272730915593521| 0.0238866347332363|  0.223935517009938|  -0.29777697912304|0.0683001764849428|  0.281018331265725|   0.11155700970708|  6.99|    0|\n",
            "| 775.0| -3.90081029867848|  -3.09837020429443| -0.21342836428919|  -2.67843389947583| -2.92757606555336| 0.735687827920799|   1.59147066595724| -3.46543255546928|   1.81275731108642| -3.56357769657677|-0.962380708439322|  0.754311217338249| -0.229208495311426|0.148039551030899| 0.867566154960811|  0.534617144362195|-0.705232302011806|  0.372385929624088|-0.619202081400404| 0.314260556087621| -1.35786992927292|-0.0975780764033164|  -4.02030006914955|  0.191246492471219| -0.204492452207875| -1.07672070258043|   1.07296081616163|  -0.18849666404714|1528.9|    0|\n",
            "| 926.0| -1.53695801321944|-0.0414224787415122|  0.62984626092522| -0.687015226838279| 0.796080076464064|-0.485756781898135| -0.302744299755159| 0.737426722720755|-0.0691305348354627|-0.634663333507278|-0.473710597551837| -0.133042215763372|   -1.3903275426319|0.684565150875787|-0.748776762108716|  0.720440435912289|-0.693531266389031|  0.535849870974585| 0.498871943021947| 0.134666058443787|  -0.1079574811124|   -0.7011709151624| -0.184521418903787| -0.851564421049734| -0.129500933612316| 0.345511067831457|   0.17853391976928|-0.0541527599784834|   1.0|    0|\n",
            "| 943.0| -1.21250203984735| -0.058850913337692|  1.82343455295237| -0.891163804061066|-0.455971674166659|   1.3300982542568| -0.631759816272457|  1.24575580378162|  0.774278112459047| -1.54785091427404|-0.239490240150516|-0.0225767331490501|  -2.04729095907005|0.103257262920714| 0.230367455914954|  -1.02402399452263|  1.43626567256362|    -2.347027006061|   -1.928416821734|-0.357609061577673|0.0271806405586567| 0.0396120961136993|  0.233518880215963| -0.621402487704639| -0.463379298231304| 0.897888129826794| -0.121906540200702| -0.101759160233165| 48.94|    0|\n",
            "|1261.0| -0.88352858430582|    1.1739736253672| 0.967297814724589|   1.12595422152142|-0.518899227803988| -1.13935853701258|  0.413261669746824| 0.136250322726078|  -0.66617797998583|-0.207099179937961|-0.136264247877654|  0.228899854167924| 0.0148818487280922|0.594379766178904|  1.00960740616451| -0.322516248194465| 0.157728294461007|-0.0669031085098535| 0.194594756756208|-0.199086957441107| 0.217594310943867|  0.456075195963565| -0.126654836480554|  0.940617783708095|-0.0783116050188488|-0.353975851356092| -0.275186874494935|-0.0386472534592465| 34.15|    0|\n",
            "|1293.0|  -1.4343476082208| 0.0124699766273357|  3.32738623176906| -0.738225162507649|-0.630524548921364|  1.66971329614342| -0.685391413805445| 0.674718224870939|   1.69503181617628|-0.413393393972643|  0.66538286778239|   1.07142769420713| -0.616595632336352|-1.51236441697279| -1.98691602284481| -0.686033800482275| 0.417712430184983| -0.612472902048524|-0.443121059823748| 0.137858540413834|0.0549317069395298|  0.965753142960808| -0.342583473915211| -0.157690658074398|  0.194028266212906|  1.20482121809001|  0.129030616441444|-0.0417713350519399|   8.0|    0|\n",
            "+------+------------------+-------------------+------------------+-------------------+------------------+------------------+-------------------+------------------+-------------------+------------------+------------------+-------------------+-------------------+-----------------+------------------+-------------------+------------------+-------------------+------------------+------------------+------------------+-------------------+-------------------+-------------------+-------------------+------------------+-------------------+-------------------+------+-----+\n",
            "only showing top 10 rows\n",
            "\n"
          ]
        }
      ],
      "source": [
        "# Aplicando distinct() para remover linhas duplicadas\n",
        "card=credit.distinct()\n",
        "card.show(10)"
      ]
    },
    {
      "cell_type": "code",
      "execution_count": 17,
      "metadata": {
        "colab": {
          "base_uri": "https://localhost:8080/"
        },
        "id": "Ar7M3qeZagpI",
        "outputId": "8f4ea8f6-20df-4451-b133-a0b249847a3a"
      },
      "outputs": [
        {
          "output_type": "execute_result",
          "data": {
            "text/plain": [
              "283726"
            ]
          },
          "metadata": {},
          "execution_count": 17
        }
      ],
      "source": [
        "# Contando o número de linhas do dataset\n",
        "card.count()"
      ]
    },
    {
      "cell_type": "code",
      "execution_count": 18,
      "metadata": {
        "colab": {
          "base_uri": "https://localhost:8080/"
        },
        "id": "3uKLa2JPWiZx",
        "outputId": "cc9f606f-0394-4c39-dbb3-d7b2eefcf548"
      },
      "outputs": [
        {
          "output_type": "stream",
          "name": "stdout",
          "text": [
            "+-----+------+\n",
            "|Class| count|\n",
            "+-----+------+\n",
            "|    1|   473|\n",
            "|    0|283253|\n",
            "+-----+------+\n",
            "\n"
          ]
        }
      ],
      "source": [
        "# Quantas transações são fraudulentas e quantas não são?\n",
        "card.groupBy(\"Class\").count().show()"
      ]
    },
    {
      "cell_type": "markdown",
      "source": [
        "- Foram removidos 1081 registros duplicados."
      ],
      "metadata": {
        "id": "1Fy81XRTmqDe"
      }
    },
    {
      "cell_type": "markdown",
      "source": [
        "### **Criando uma coluna com todas as preditoras no dataset**"
      ],
      "metadata": {
        "id": "dfTtpBONot-C"
      }
    },
    {
      "cell_type": "code",
      "execution_count": 19,
      "metadata": {
        "colab": {
          "base_uri": "https://localhost:8080/"
        },
        "id": "enYAY-Euc9w5",
        "outputId": "ce224f00-a388-42a7-b628-cbc7c80b8995"
      },
      "outputs": [
        {
          "output_type": "stream",
          "name": "stdout",
          "text": [
            "+-----+--------------------+\n",
            "|Class|          preditoras|\n",
            "+-----+--------------------+\n",
            "|    0|[-0.5299122841865...|\n",
            "|    0|[-0.6008163881153...|\n",
            "|    0|[-1.5057791635308...|\n",
            "|    0|[-0.4910030173022...|\n",
            "|    0|[-0.5282175047788...|\n",
            "|    0|[-3.9008102986784...|\n",
            "|    0|[-1.5369580132194...|\n",
            "|    0|[-1.2125020398473...|\n",
            "|    0|[-0.8835285843058...|\n",
            "|    0|[-1.4343476082208...|\n",
            "|    0|[-0.7989760084090...|\n",
            "|    0|[-0.6512154009528...|\n",
            "|    0|[1.11534818942834...|\n",
            "|    0|[1.00957555058854...|\n",
            "|    0|[-2.2517410228050...|\n",
            "|    0|[-0.4444871910125...|\n",
            "|    0|[-1.3191686973385...|\n",
            "|    0|[1.04406759129688...|\n",
            "|    0|[0.89659392125538...|\n",
            "|    0|[1.40127624693718...|\n",
            "+-----+--------------------+\n",
            "only showing top 20 rows\n",
            "\n"
          ]
        }
      ],
      "source": [
        "# criando uma coluna com todas as preditoras\n",
        "from pyspark.ml.linalg import Vectors\n",
        "from pyspark.ml.feature import VectorAssembler\n",
        "\n",
        "# Definindo as preditoras\n",
        "def_preditoras = VectorAssembler(\n",
        "    inputCols=[\n",
        "    'V1',\n",
        "    'V2',\n",
        "    'V3',\n",
        "    'V4',\n",
        "    'V5',\n",
        "    'V6',\n",
        "    'V7',\n",
        "    'V8',\n",
        "    'V9',\n",
        "    'V10',\n",
        "    'V11',\n",
        "    'V12',\n",
        "    'V13',\n",
        "    'V14',\n",
        "    'V15',\n",
        "    'V16',\n",
        "    'V17',\n",
        "    'V18',\n",
        "    'V19',\n",
        "    'V20',\n",
        "    'V21',\n",
        "    'V22',\n",
        "    'V23',\n",
        "    'V24',\n",
        "    'V25',\n",
        "    'V26',\n",
        "    'V27',\n",
        "    'V28',\n",
        "    'Amount'\n",
        "    ],\n",
        "    outputCol= 'preditoras'\n",
        ")\n",
        "\n",
        "# criando uma coluna com todas as preditoras no dataset\n",
        "card = def_preditoras.transform(card)\n",
        "\n",
        "# Pegando somente os atributos que serao utilizados na modelagem\n",
        "card_ml= card.select('Class', 'preditoras')\n",
        "\n",
        "# Espiando dataset final\n",
        "card_ml.show()"
      ]
    },
    {
      "cell_type": "markdown",
      "source": [
        "## **6. Treinamento dos modelos**"
      ],
      "metadata": {
        "id": "vgiZYKhDqwQu"
      }
    },
    {
      "cell_type": "markdown",
      "source": [
        "### **6.1 Dividindo o dataset entre treino e teste**"
      ],
      "metadata": {
        "id": "Rh3kEGFqrEZc"
      }
    },
    {
      "cell_type": "markdown",
      "source": [
        "- O conjunto de dados é altamente desequilibrado e, para garantir que o conjunto de treino e o conjunto de teste preservem as porcentagens de classes, realizamos uma divisão estratificada personalizada e reservamos 20% dos dados para teste."
      ],
      "metadata": {
        "id": "pcxnIpn1tYCw"
      }
    },
    {
      "cell_type": "code",
      "execution_count": 20,
      "metadata": {
        "id": "iy5nS5JpehaB"
      },
      "outputs": [],
      "source": [
        "SPLIT_VALS = [0.8, 0.2]\n",
        "\n",
        "# Split card_ml entre 0s e 1s\n",
        "zeros = card_ml.filter(card_ml[\"Class\"]==0)\n",
        "ones = card_ml.filter(card_ml[\"Class\"]==1)\n",
        "\n",
        "  # Split em treinamento e teste\n",
        "train0, test0 = zeros.randomSplit(SPLIT_VALS, seed=7)\n",
        "train1, test1 = ones.randomSplit(SPLIT_VALS, seed=7)\n",
        "\n",
        "  # Reunindo os conjuntos de dados novamente.\n",
        "card_treino = train0.union(train1)\n",
        "card_teste = test0.union(test1)"
      ]
    },
    {
      "cell_type": "code",
      "execution_count": 21,
      "metadata": {
        "colab": {
          "base_uri": "https://localhost:8080/"
        },
        "id": "L4FgLUrVkYYw",
        "outputId": "7a4fef88-6b30-4f66-b378-12cda40c65ae"
      },
      "outputs": [
        {
          "output_type": "stream",
          "name": "stdout",
          "text": [
            "+-----+------+\n",
            "|Class| count|\n",
            "+-----+------+\n",
            "|    1|   381|\n",
            "|    0|226680|\n",
            "+-----+------+\n",
            "\n"
          ]
        }
      ],
      "source": [
        "# Quantas transações são fraudulentas e quantas não são no conjunto de treinamento?\n",
        "card_treino.groupBy(\"Class\").count().show()"
      ]
    },
    {
      "cell_type": "code",
      "execution_count": 22,
      "metadata": {
        "colab": {
          "base_uri": "https://localhost:8080/"
        },
        "id": "6RF9MVXOnUvE",
        "outputId": "07440f27-51ba-4433-9b64-9d4fe3bd3d4f"
      },
      "outputs": [
        {
          "output_type": "stream",
          "name": "stdout",
          "text": [
            "+-----+-----+\n",
            "|Class|count|\n",
            "+-----+-----+\n",
            "|    1|   92|\n",
            "|    0|56573|\n",
            "+-----+-----+\n",
            "\n"
          ]
        }
      ],
      "source": [
        "# Quantas transações são fraudulentas e quantas não são no conjunto de teste?\n",
        "card_teste.groupBy(\"Class\").count().show()"
      ]
    },
    {
      "cell_type": "markdown",
      "source": [
        "### **6.2 Regressão Logística**"
      ],
      "metadata": {
        "id": "YnJI8HxZv-vh"
      }
    },
    {
      "cell_type": "code",
      "execution_count": 23,
      "metadata": {
        "id": "4KBlT_iAq3mk"
      },
      "outputs": [],
      "source": [
        "from pyspark.ml.classification import LogisticRegression"
      ]
    },
    {
      "cell_type": "code",
      "execution_count": 24,
      "metadata": {
        "id": "XvBks-tDq_g1"
      },
      "outputs": [],
      "source": [
        "# definindo logist regression\n",
        "rl= LogisticRegression(\n",
        "    featuresCol='preditoras',\n",
        "    maxIter = 5000,\n",
        "    labelCol='Class',\n",
        "    predictionCol='class_pred')"
      ]
    },
    {
      "cell_type": "code",
      "execution_count": 25,
      "metadata": {
        "id": "Wtbvk3YRrMi_"
      },
      "outputs": [],
      "source": [
        "# Treinando o modelo\n",
        "modelo_rl = rl.fit(card_treino)"
      ]
    },
    {
      "cell_type": "code",
      "execution_count": 26,
      "metadata": {
        "id": "6GJdQ00qrX31"
      },
      "outputs": [],
      "source": [
        "# Ajustando o modelo aos dados de teste\n",
        "modelo_rl_pred = modelo_rl.transform(card_teste)"
      ]
    },
    {
      "cell_type": "code",
      "execution_count": 27,
      "metadata": {
        "colab": {
          "base_uri": "https://localhost:8080/"
        },
        "id": "ce0ePRxir4s4",
        "outputId": "786fa183-8d69-4811-fee9-629924e221f8"
      },
      "outputs": [
        {
          "output_type": "stream",
          "name": "stdout",
          "text": [
            "+----------+-----+\n",
            "|class_pred|Class|\n",
            "+----------+-----+\n",
            "|       0.0|    0|\n",
            "|       0.0|    0|\n",
            "|       0.0|    0|\n",
            "|       0.0|    0|\n",
            "|       0.0|    0|\n",
            "|       0.0|    0|\n",
            "|       0.0|    0|\n",
            "|       0.0|    0|\n",
            "|       0.0|    0|\n",
            "|       0.0|    0|\n",
            "+----------+-----+\n",
            "only showing top 10 rows\n",
            "\n"
          ]
        }
      ],
      "source": [
        "# Selecionando aa colunas class_pred e Class\n",
        "predita_observada = modelo_rl_pred.select('class_pred','Class')\n",
        "predita_observada.show(10)"
      ]
    },
    {
      "cell_type": "code",
      "execution_count": 28,
      "metadata": {
        "colab": {
          "base_uri": "https://localhost:8080/"
        },
        "id": "8y3C6R46sF5B",
        "outputId": "75064759-1de5-4aa8-d14a-c0b706c2e2de"
      },
      "outputs": [
        {
          "output_type": "stream",
          "name": "stdout",
          "text": [
            "+----------------+-----+---+\n",
            "|Class_class_pred|  0.0|1.0|\n",
            "+----------------+-----+---+\n",
            "|               0|56561| 12|\n",
            "|               1|   37| 55|\n",
            "+----------------+-----+---+\n",
            "\n"
          ]
        }
      ],
      "source": [
        "# Matriz de confusão modelo Regressão Logística\n",
        "predita_observada\\\n",
        "  .crosstab('Class', 'class_pred')\\\n",
        "  .orderBy('Class_class_pred')\\\n",
        "  .show()"
      ]
    },
    {
      "cell_type": "markdown",
      "source": [
        "- O modelo de regressão logística identificou corretamente 56561 transações como legítimas ao mesmo tempo em que classificou erroneamente 12 transações legítimas como fraudulentas. Nos queremos\n",
        "minimizar o último número porque não queremos incomodar os clientes recusando transações legítimas."
      ],
      "metadata": {
        "id": "vc-8Xr6tROrX"
      }
    },
    {
      "cell_type": "markdown",
      "source": [
        "####  **Verificando as métricas da qualidade do ajuste do modelo**"
      ],
      "metadata": {
        "id": "r3XMaYedNfTQ"
      }
    },
    {
      "cell_type": "code",
      "source": [
        "# Calcular true positives, true negatives, false positives, false negatives\n",
        "\n",
        "from pyspark.sql.functions import col\n",
        "\n",
        "tp = modelo_rl_pred.filter((col(\"Class\") == 1) & (col('class_pred') == 1)).count()\n",
        "tn = modelo_rl_pred.filter((col(\"Class\") == 0) & (col('class_pred') == 0)).count()\n",
        "fp = modelo_rl_pred.filter((col(\"Class\") == 0) & (col('class_pred') == 1)).count()\n",
        "fn = modelo_rl_pred.filter((col(\"Class\") == 1) & (col('class_pred') == 0)).count()\n",
        "\n",
        "# Precisão\n",
        "precision = tp / (tp + fp) if (tp + fp) != 0 else 0\n",
        "print(f\"Precision: {precision}\",'\\n')\n",
        "\n",
        "# Recall= Sensitivity\n",
        "recall = tp / (tp + fn) if (tp + fn) != 0 else 0.0\n",
        "print(f\"Recall: {recall}\",'\\n')\n",
        "\n",
        "# Specificity\n",
        "Specificity = tn / (tn + fp) if (tn + fp) != 0 else 0.0\n",
        "print(f\"Specificity: {Specificity}\")"
      ],
      "metadata": {
        "colab": {
          "base_uri": "https://localhost:8080/"
        },
        "id": "dYf51HiqQkLe",
        "outputId": "202ab6ac-304e-4dd4-dabb-eafa1dc45d0e"
      },
      "execution_count": 29,
      "outputs": [
        {
          "output_type": "stream",
          "name": "stdout",
          "text": [
            "Precision: 0.8208955223880597 \n",
            "\n",
            "Recall: 0.5978260869565217 \n",
            "\n",
            "Specificity: 0.999787884679971\n"
          ]
        }
      ]
    },
    {
      "cell_type": "markdown",
      "source": [
        "- Dado o interesse da empresa de cartão de crédito em garantir a satisfação contínua dos clientes e promover gastos, a especificidade é uma métrica crucial que avalia a capacidade de um teste em identificar corretamente amostras negativas, ou seja, em não rotular erroneamente transações legítimas como fraudulentas.\n",
        "\n",
        "- Vamos ver se o  algoritmo Random forest pode aprimorar  a  especificidade."
      ],
      "metadata": {
        "id": "dUl3UAHvd27N"
      }
    },
    {
      "cell_type": "markdown",
      "source": [
        "### **6.3 Random Forest**"
      ],
      "metadata": {
        "id": "s55tD6FMStPk"
      }
    },
    {
      "cell_type": "code",
      "execution_count": 30,
      "metadata": {
        "id": "MM5OUo-jz3sd"
      },
      "outputs": [],
      "source": [
        "from pyspark.ml.classification import RandomForestClassifier"
      ]
    },
    {
      "cell_type": "code",
      "execution_count": 31,
      "metadata": {
        "id": "kpMePrg1Sdb2"
      },
      "outputs": [],
      "source": [
        "# definindo a floresta\n",
        "rf= RandomForestClassifier(\n",
        "    featuresCol='preditoras',\n",
        "    labelCol='Class',\n",
        "    predictionCol='class_pred',\n",
        "    numTrees=50,\n",
        "    maxDepth=30\n",
        "    )"
      ]
    },
    {
      "cell_type": "code",
      "execution_count": 32,
      "metadata": {
        "id": "ZsETOVY-S8DQ"
      },
      "outputs": [],
      "source": [
        "# Treinando a floresta\n",
        "modelo_rf = rf.fit(card_treino)"
      ]
    },
    {
      "cell_type": "code",
      "execution_count": 33,
      "metadata": {
        "id": "JDGh9lVaTIXT"
      },
      "outputs": [],
      "source": [
        "# Ajustando a floresta aos dados de teste\n",
        "modelo_rf_pred = modelo_rf.transform(card_teste)"
      ]
    },
    {
      "cell_type": "code",
      "execution_count": 34,
      "metadata": {
        "colab": {
          "base_uri": "https://localhost:8080/"
        },
        "id": "MDMZNNzvTZuf",
        "outputId": "415f615a-9d17-4e44-a9e7-45f1d9fc42f0"
      },
      "outputs": [
        {
          "output_type": "stream",
          "name": "stdout",
          "text": [
            "+----------+-----+\n",
            "|class_pred|Class|\n",
            "+----------+-----+\n",
            "|       0.0|    0|\n",
            "|       0.0|    0|\n",
            "|       0.0|    0|\n",
            "|       0.0|    0|\n",
            "|       0.0|    0|\n",
            "|       0.0|    0|\n",
            "|       0.0|    0|\n",
            "|       0.0|    0|\n",
            "|       0.0|    0|\n",
            "|       0.0|    0|\n",
            "+----------+-----+\n",
            "only showing top 10 rows\n",
            "\n"
          ]
        }
      ],
      "source": [
        "# Selecionando as colunas class_pred e Class\n",
        "predita_observada1 = modelo_rf_pred.select('class_pred','Class')\n",
        "predita_observada1.show(10)"
      ]
    },
    {
      "cell_type": "code",
      "execution_count": 35,
      "metadata": {
        "colab": {
          "base_uri": "https://localhost:8080/"
        },
        "id": "5hHD-2r0TkXB",
        "outputId": "f696c594-ead3-418d-9970-df81ce4a36c7"
      },
      "outputs": [
        {
          "output_type": "stream",
          "name": "stdout",
          "text": [
            "+----------------+-----+---+\n",
            "|Class_class_pred|  0.0|1.0|\n",
            "+----------------+-----+---+\n",
            "|               0|56564|  9|\n",
            "|               1|   24| 68|\n",
            "+----------------+-----+---+\n",
            "\n"
          ]
        }
      ],
      "source": [
        "# Matriz de confusão\n",
        "predita_observada1\\\n",
        "  .crosstab('Class', 'class_pred')\\\n",
        "  .orderBy('Class_class_pred')\\\n",
        "  .show()"
      ]
    },
    {
      "cell_type": "markdown",
      "source": [
        "- O modelo random forest confundiu apenas nove transações legítimas como fraudulentas. Isso é um melhoria em relação à regressão logística.\n",
        "- O modelo capturou cerca de 74% das transações fraudulentas."
      ],
      "metadata": {
        "id": "DWTIFT5iWjzU"
      }
    },
    {
      "cell_type": "markdown",
      "source": [
        "#### **Verificando as métricas da qualidade do ajuste do modelo Random Forest**"
      ],
      "metadata": {
        "id": "uBS0nf0zX-Lx"
      }
    },
    {
      "cell_type": "code",
      "source": [
        "# Calcular true positives, true negatives, false positives, false negatives\n",
        "\n",
        "tp1 = modelo_rf_pred.filter((col(\"Class\") == 1) & (col('class_pred') == 1)).count()\n",
        "tn1 = modelo_rf_pred.filter((col(\"Class\") == 0) & (col('class_pred') == 0)).count()\n",
        "fp1 = modelo_rf_pred.filter((col(\"Class\") == 0) & (col('class_pred') == 1)).count()\n",
        "fn1 = modelo_rf_pred.filter((col(\"Class\") == 1) & (col('class_pred') == 0)).count()\n",
        "\n",
        "# Precisão\n",
        "precision1 = tp1 / (tp1 + fp1) if (tp1 + fp1) != 0 else 0\n",
        "print(f\"Precision: {precision1}\",'\\n')\n",
        "\n",
        "# Recall= Sensitivity\n",
        "recall1 = tp1 / (tp1 + fn1) if (tp1 + fn1) != 0 else 0.0\n",
        "print(f\"Recall: {recall1}\", '\\n')\n",
        "\n",
        "# Specificity\n",
        "Specificity1 = tn1 / (tn1 + fp1) if (tn1 + fp1) != 0 else 0.0\n",
        "print(f\"Specificity: {Specificity1}\")"
      ],
      "metadata": {
        "colab": {
          "base_uri": "https://localhost:8080/"
        },
        "id": "HJO6GNrhYLvz",
        "outputId": "39c2d46c-d4bd-4248-9a15-683aa26fd9d5"
      },
      "execution_count": 36,
      "outputs": [
        {
          "output_type": "stream",
          "name": "stdout",
          "text": [
            "Precision: 0.8831168831168831 \n",
            "\n",
            "Recall: 0.7391304347826086 \n",
            "\n",
            "Specificity: 0.9998409135099783\n"
          ]
        }
      ]
    },
    {
      "cell_type": "markdown",
      "source": [
        "- Em comparação com o modelo de regressão logística, este modelo apresenta um desempenho ligeiramente superior."
      ],
      "metadata": {
        "id": "4fDYfchBkgea"
      }
    },
    {
      "cell_type": "markdown",
      "source": [
        "## **7. Conclusão**"
      ],
      "metadata": {
        "id": "hhBgbetJknsR"
      }
    },
    {
      "cell_type": "markdown",
      "source": [
        "- O modelo Random Forest demonstra uma precisão satisfatória na detecção de fraudes de cartão de crédito, utilizando a métrica de avaliação de Especificidade.\n",
        "\n",
        "- Podemos aprimorar a previsão do modelo através da utilização da técnica de combinação de modelos conhecida como \"Stacking ensemble\".\n",
        "\n",
        "\n",
        "\n",
        "\n",
        "\n"
      ],
      "metadata": {
        "id": "l1KB8dj4nWsR"
      }
    }
  ],
  "metadata": {
    "colab": {
      "provenance": []
    },
    "kernelspec": {
      "display_name": "Python 3",
      "name": "python3"
    },
    "language_info": {
      "name": "python"
    }
  },
  "nbformat": 4,
  "nbformat_minor": 0
}